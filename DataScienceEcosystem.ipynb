{
 "cells": [
  {
   "cell_type": "markdown",
   "id": "ca366b61-296e-4b99-af92-29b0a467cd48",
   "metadata": {},
   "source": [
    "# Data Science Tools and Ecosystem"
   ]
  },
  {
   "cell_type": "markdown",
   "id": "9ca65020-9756-4824-8063-5ed0d1b06798",
   "metadata": {},
   "source": [
    "In this notebook, Data Science Tools and Ecosystem are summarized."
   ]
  },
  {
   "cell_type": "markdown",
   "id": "066f6e88-7c69-4adf-8b66-000d179b6b22",
   "metadata": {},
   "source": [
    "Some of the popular languages that Data Scientists use are:\n",
    "1. Python\n",
    "2. R\n",
    "3. SQL\n",
    "4. Scala"
   ]
  },
  {
   "cell_type": "markdown",
   "id": "98f775f3-eeb4-4e67-9e63-ff2b17fb3793",
   "metadata": {},
   "source": [
    "Some of the commonly used libraries used by Data Scientists include:\n",
    "1. NumPy\n",
    "2. Pandas\n",
    "3. Matplotlib\n",
    "4. Scikit-learn\n",
    "5. TensorFlow"
   ]
  },
  {
   "cell_type": "markdown",
   "id": "369e857c-439c-4782-9c8d-5b249168ccb1",
   "metadata": {},
   "source": [
    "| Data Science Tools |\n",
    "|--------------------|\n",
    "| Jupyter Notebook |\n",
    "| RStudio |\n",
    "| Visual Studio Code |"
   ]
  },
  {
   "cell_type": "markdown",
   "id": "e3a864fa-3ea8-4d0f-a8c4-343048ae28f9",
   "metadata": {},
   "source": [
    "### Below are a few examples of evaluating arithmetic expressions in Python"
   ]
  },
  {
   "cell_type": "code",
   "execution_count": 9,
   "id": "7fb8dc5c-4680-4e37-8b17-91f2bddf768e",
   "metadata": {},
   "outputs": [
    {
     "data": {
      "text/plain": [
       "17"
      ]
     },
     "execution_count": 9,
     "metadata": {},
     "output_type": "execute_result"
    }
   ],
   "source": [
    "(3*4)+5 #This a simple arithmetic expression to mutiply then add integers"
   ]
  },
  {
   "cell_type": "code",
   "execution_count": 16,
   "id": "dc8b4d8e-247b-4e50-9725-92c29e324c02",
   "metadata": {},
   "outputs": [
    {
     "name": "stdout",
     "output_type": "stream",
     "text": [
      "3.3333333333333335 h\n"
     ]
    }
   ],
   "source": [
    "min=200\n",
    "h=min/60 #This will convert 200 minutes to hours by diving by 60\n",
    "print(h,\"h\")"
   ]
  },
  {
   "cell_type": "markdown",
   "id": "ea6dc2f7-46cf-455c-a1ee-1084fdbf2353",
   "metadata": {},
   "source": [
    "**Objectives:**\n",
    "* Python\n",
    "* R\n",
    "* Jupyter Notebook\n",
    "* RStudio\n"
   ]
  },
  {
   "cell_type": "markdown",
   "id": "c832aabf-effb-4869-9e2f-ed84d9c7dd6a",
   "metadata": {},
   "source": [
    "## Author\n",
    "Thet Myat Noe Oo"
   ]
  },
  {
   "cell_type": "code",
   "execution_count": null,
   "id": "574924d7-25c3-4593-ac19-4602f4032c01",
   "metadata": {},
   "outputs": [],
   "source": []
  }
 ],
 "metadata": {
  "kernelspec": {
   "display_name": "Python [conda env:base] *",
   "language": "python",
   "name": "conda-base-py"
  },
  "language_info": {
   "codemirror_mode": {
    "name": "ipython",
    "version": 3
   },
   "file_extension": ".py",
   "mimetype": "text/x-python",
   "name": "python",
   "nbconvert_exporter": "python",
   "pygments_lexer": "ipython3",
   "version": "3.12.7"
  }
 },
 "nbformat": 4,
 "nbformat_minor": 5
}
